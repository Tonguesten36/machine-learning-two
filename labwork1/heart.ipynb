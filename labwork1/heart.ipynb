{
 "cells": [
  {
   "cell_type": "code",
   "execution_count": null,
   "metadata": {},
   "outputs": [],
   "source": [
    "from ucimlrepo import fetch_ucirepo \n",
    "  \n",
    "# fetch heart disease dataset \n",
    "heart_disease = fetch_ucirepo(id=45) \n",
    "  \n",
    "# data (as pandas dataframes) \n",
    "X_heart = heart_disease.data.features \n",
    "y_heart = heart_disease.data.targets \n",
    "  \n",
    "# metadata \n",
    "print(heart_disease.metadata) \n",
    "  \n",
    "# variable information \n",
    "print(heart_disease.variables) "
   ]
  },
  {
   "cell_type": "code",
   "execution_count": null,
   "metadata": {},
   "outputs": [],
   "source": [
    "#Display the heart disease data\n",
    "print(\"Heart Disease Data\")\n",
    "X_heart.to_csv('heart.csv', index = False)\n",
    "X_heart.head()"
   ]
  },
  {
   "cell_type": "code",
   "execution_count": null,
   "metadata": {},
   "outputs": [],
   "source": [
    "#Calculate the mean of heart disease data\n",
    "print(\"Mean of Heart Disease Data\")\n",
    "X_heart.mean()\n"
   ]
  },
  {
   "cell_type": "code",
   "execution_count": null,
   "metadata": {},
   "outputs": [],
   "source": [
    "#Calculate the variance of heart disease data\n",
    "print(\"Variance of Heart Disease Data\")\n",
    "X_heart.var()"
   ]
  },
  {
   "cell_type": "code",
   "execution_count": null,
   "metadata": {},
   "outputs": [],
   "source": [
    "#Calculate the covariance of heart disease data\n",
    "print(\"Covariance of Heart Disease Data\")\n",
    "X_heart.cov()"
   ]
  },
  {
   "cell_type": "code",
   "execution_count": null,
   "metadata": {},
   "outputs": [],
   "source": [
    "#Calculate the correlation of heart disease data\n",
    "print(\"Correlation of Heart Disease Data\")\n",
    "X_heart.corr()"
   ]
  },
  {
   "cell_type": "code",
   "execution_count": null,
   "metadata": {},
   "outputs": [],
   "source": [
    "#Find the most correlated couple of features of heart disease data\n",
    "print(\"Most Correlated Couple of Features of Heart Disease Data\")\n",
    "X_heart.corr().abs().unstack().sort_values(kind=\"quicksort\", ascending=False).drop_duplicates()[X_heart.shape[1]:X_heart.shape[1]+1]"
   ]
  }
 ],
 "metadata": {
  "kernelspec": {
   "display_name": "Python 3",
   "language": "python",
   "name": "python3"
  },
  "language_info": {
   "name": "python",
   "version": "3.11.6"
  }
 },
 "nbformat": 4,
 "nbformat_minor": 2
}
