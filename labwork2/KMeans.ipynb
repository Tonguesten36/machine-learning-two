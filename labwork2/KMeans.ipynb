{
 "cells": [
  {
   "cell_type": "code",
   "execution_count": null,
   "metadata": {},
   "outputs": [],
   "source": [
    "import pandas as pd\n",
    "import numpy as np\n",
    "import matplotlib.pyplot as plt \n",
    "import seaborn as sns\n",
    "from sklearn.cluster import KMeans \n",
    "from sklearn.metrics import silhouette_score\n",
    "from sklearn.preprocessing import MinMaxScaler\n",
    "from sklearn.preprocessing import Normalizer"
   ]
  },
  {
   "cell_type": "code",
   "execution_count": null,
   "metadata": {},
   "outputs": [],
   "source": [
    "from ucimlrepo import fetch_ucirepo \n",
    "from sklearn.datasets import load_wine, load_iris\n",
    "\n",
    "# Import the Iris dataset\n",
    "iris = load_iris() \n",
    "X_iris = iris.data\n",
    "y_iris = iris.target\n",
    "\n",
    "# Import the Wine dataset\n",
    "wine = load_wine()\n",
    "X_wine = wine.data\n",
    "y_wine = wine.target\n"
   ]
  },
  {
   "cell_type": "code",
   "execution_count": null,
   "metadata": {},
   "outputs": [],
   "source": [
    "#MinMaxScaler\n",
    "scaler = MinMaxScaler()\n",
    "X_iris_scaled = scaler.fit_transform(X_iris)\n",
    "X_wine_scaled = scaler.fit_transform(X_wine)\n"
   ]
  },
  {
   "cell_type": "code",
   "execution_count": null,
   "metadata": {},
   "outputs": [],
   "source": [
    "#KMeans clustering for Iris dataset (scaled)\n",
    "kmeans_iris = KMeans(n_clusters=3, random_state=0)\n",
    "kmeans_iris.fit(X_iris_scaled)\n",
    "y_pred_iris = kmeans_iris.predict(X_iris_scaled)\n",
    "print(\"Silhouette score for Iris dataset is: \", silhouette_score(X_iris_scaled, y_pred_iris))"
   ]
  },
  {
   "cell_type": "code",
   "execution_count": null,
   "metadata": {},
   "outputs": [],
   "source": [
    "#KMeans clustering for Wine dataset (scaled)\n",
    "kmeans_wine = KMeans(n_clusters=3, random_state=0)\n",
    "kmeans_wine.fit(X_wine_scaled)\n",
    "y_pred_wine = kmeans_wine.predict(X_wine_scaled)\n",
    "print(\"Silhouette score for Wine dataset is: \", silhouette_score(X_wine_scaled, y_pred_wine))"
   ]
  },
  {
   "cell_type": "code",
   "execution_count": null,
   "metadata": {},
   "outputs": [],
   "source": [
    "#Kmeans clustering for Iris dataset (not scaled)\n",
    "kmeans_iris_unscaled = KMeans(n_clusters=3, random_state=0)\n",
    "kmeans_iris_unscaled.fit(X_iris)\n",
    "y_pred_iris_unscaled = kmeans_iris_unscaled.predict(X_iris)\n",
    "print(\"Silhouette score for Iris dataset is: \", silhouette_score(X_iris, y_pred_iris_unscaled))"
   ]
  },
  {
   "cell_type": "code",
   "execution_count": null,
   "metadata": {},
   "outputs": [],
   "source": [
    "#Kmeans clustering for Wine dataset (not scaled)\n",
    "kmeans_wine_unscaled = KMeans(n_clusters=3, random_state=0)\n",
    "kmeans_wine_unscaled.fit(X_wine)\n",
    "y_pred_wine_unscaled = kmeans_wine_unscaled.predict(X_wine)\n",
    "print(\"Silhouette score for Wine dataset is: \", silhouette_score(X_wine, y_pred_wine_unscaled))"
   ]
  },
  {
   "cell_type": "code",
   "execution_count": null,
   "metadata": {},
   "outputs": [],
   "source": [
    "#Visualize the cluster in Iris dataset (scaled)\n",
    "plt.scatter(X_iris_scaled[y_pred_iris == 0, 0], X_iris_scaled[y_pred_iris == 0, 1], s = 100, c = 'purple', label = 'Iris-setosa')\n",
    "plt.scatter(X_iris_scaled[y_pred_iris == 1, 0], X_iris_scaled[y_pred_iris == 1, 1], s = 100, c = 'orange', label = 'Iris-versicolour')\n",
    "plt.scatter(X_iris_scaled[y_pred_iris == 2, 0], X_iris_scaled[y_pred_iris == 2, 1], s = 100, c = 'green', label = 'Iris-virginica')\n",
    "\n",
    "#Plotting the centroids of the clusters (scaled)\n",
    "plt.scatter(kmeans_iris.cluster_centers_[:, 0], kmeans_iris.cluster_centers_[:,1], s = 100, c = 'red', label = 'Centroids')\n",
    "\n",
    "plt.legend()\n",
    "plt.title(f'Clusters of Iris dataset (k = {3})')\n",
    "plt.savefig('KMeans_Iris_scaled.png')\n",
    "plt.show()"
   ]
  },
  {
   "cell_type": "code",
   "execution_count": null,
   "metadata": {},
   "outputs": [],
   "source": [
    "#Visualize the cluster in Wine dataset (scaled)\n",
    "plt.scatter(X_wine_scaled[y_pred_wine == 0, 0], X_wine_scaled[y_pred_wine == 0, 1], s = 100, c = 'purple', label = 'Wine-1')\n",
    "plt.scatter(X_wine_scaled[y_pred_wine == 1, 0], X_wine_scaled[y_pred_wine == 1, 1], s = 100, c = 'orange', label = 'Wine-2')\n",
    "plt.scatter(X_wine_scaled[y_pred_wine == 2, 0], X_wine_scaled[y_pred_wine == 2, 1], s = 100, c = 'green', label = 'Wine-3')\n",
    "\n",
    "#Plotting the centroids of the clusters (scaled)\n",
    "plt.scatter(kmeans_wine.cluster_centers_[:, 0], kmeans_wine.cluster_centers_[:,1], s = 100, c = 'red', label = 'Centroids')\n",
    "\n",
    "plt.legend()\n",
    "plt.title(f'Clusters of Wine dataset (k = {3})')\n",
    "plt.savefig('KMeans_Wine_scaled.png')\n",
    "plt.show()"
   ]
  },
  {
   "cell_type": "code",
   "execution_count": null,
   "metadata": {},
   "outputs": [],
   "source": [
    "#Visualize the cluster in Iris dataset (not scaled)\n",
    "plt.scatter(X_iris[y_pred_iris_unscaled == 0, 0], X_iris[y_pred_iris_unscaled == 0, 1], s = 100, c = 'purple', label = 'Iris-setosa')\n",
    "plt.scatter(X_iris[y_pred_iris_unscaled == 1, 0], X_iris[y_pred_iris_unscaled == 1, 1], s = 100, c = 'orange', label = 'Iris-versicolour')\n",
    "plt.scatter(X_iris[y_pred_iris_unscaled == 2, 0], X_iris[y_pred_iris_unscaled == 2, 1], s = 100, c = 'green', label = 'Iris-virginica')\n",
    "\n",
    "#Plotting the centroids of the clusters (not scaled)\n",
    "plt.scatter(kmeans_iris_unscaled.cluster_centers_[:, 0], kmeans_iris_unscaled.cluster_centers_[:,1], s = 100, c = 'red', label = 'Centroids')\n",
    "\n",
    "plt.legend()\n",
    "plt.title('Clusters of Iris dataset (not scaled)')\n",
    "plt.savefig('KMeans_Iris_unscaled.png')\n",
    "plt.show()"
   ]
  },
  {
   "cell_type": "code",
   "execution_count": null,
   "metadata": {},
   "outputs": [],
   "source": [
    "#Visualize the cluster in Wine dataset (not scaled)\n",
    "plt.scatter(X_wine[y_pred_wine_unscaled == 0, 0], X_wine[y_pred_wine_unscaled == 0, 1], s = 100, c = 'purple', label = 'Wine-1')\n",
    "plt.scatter(X_wine[y_pred_wine_unscaled == 1, 0], X_wine[y_pred_wine_unscaled == 1, 1], s = 100, c = 'orange', label = 'Wine-2')\n",
    "plt.scatter(X_wine[y_pred_wine_unscaled == 2, 0], X_wine[y_pred_wine_unscaled == 2, 1], s = 100, c = 'green', label = 'Wine-3')\n",
    "\n",
    "#Plotting the centroids of the clusters (not scaled)\n",
    "plt.scatter(kmeans_wine_unscaled.cluster_centers_[:, 0], kmeans_wine_unscaled.cluster_centers_[:,1], s = 100, c = 'red', label = 'Centroids')\n",
    "\n",
    "plt.legend()\n",
    "plt.title('Clusters of Wine dataset (not scaled)')\n",
    "plt.savefig('KMeans_Wine_unscaled.png')\n",
    "plt.show()"
   ]
  },
  {
   "cell_type": "code",
   "execution_count": null,
   "metadata": {},
   "outputs": [],
   "source": [
    "#Implement the elbow method for the scaled Iris dataset\n",
    "wcss = []\n",
    "for i in range(1, 11):\n",
    "    kmeans_iris = KMeans(n_clusters=i, random_state=0)\n",
    "    kmeans_iris.fit(X_iris_scaled)\n",
    "    wcss.append(kmeans_iris.inertia_)\n",
    "plt.plot(range(1, 11), wcss)\n",
    "plt.title('The Elbow Method for Iris dataset (scaled)')\n",
    "plt.xlabel('Number of clusters')\n",
    "plt.ylabel('WCSS')\n",
    "plt.savefig('Elbow_Iris_scaled.png')\n",
    "plt.show()"
   ]
  }
 ],
 "metadata": {
  "kernelspec": {
   "display_name": "Python 3",
   "language": "python",
   "name": "python3"
  },
  "language_info": {
   "codemirror_mode": {
    "name": "ipython",
    "version": 3
   },
   "file_extension": ".py",
   "mimetype": "text/x-python",
   "name": "python",
   "nbconvert_exporter": "python",
   "pygments_lexer": "ipython3",
   "version": "3.11.5"
  }
 },
 "nbformat": 4,
 "nbformat_minor": 2
}
