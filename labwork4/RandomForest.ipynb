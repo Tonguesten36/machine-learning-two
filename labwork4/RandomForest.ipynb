{
 "cells": [
  {
   "cell_type": "code",
   "execution_count": 1,
   "metadata": {},
   "outputs": [],
   "source": [
    "from sklearn.datasets import load_iris\n",
    "from sklearn.datasets import load_breast_cancer\n",
    "\n",
    "# Load the Iris dataset\n",
    "iris = load_iris()\n",
    "\n",
    "# Access the data and labels\n",
    "X = iris.data\n",
    "y = iris.target\n",
    "# Load the Breast Cancer dataset\n",
    "breast_cancer = load_breast_cancer()\n",
    "\n",
    "# Access the data and labels\n",
    "X = breast_cancer.data\n",
    "y = breast_cancer.target\n",
    "\n"
   ]
  },
  {
   "cell_type": "code",
   "execution_count": 2,
   "metadata": {},
   "outputs": [
    {
     "name": "stdout",
     "output_type": "stream",
     "text": [
      "[[1.247e+01 1.860e+01 8.109e+01 ... 1.015e-01 3.014e-01 8.750e-02]\n",
      " [1.894e+01 2.131e+01 1.236e+02 ... 1.789e-01 2.551e-01 6.589e-02]\n",
      " [1.546e+01 1.948e+01 1.017e+02 ... 1.514e-01 2.837e-01 8.019e-02]\n",
      " ...\n",
      " [1.152e+01 1.493e+01 7.387e+01 ... 9.608e-02 2.664e-01 7.809e-02]\n",
      " [1.422e+01 2.785e+01 9.255e+01 ... 8.219e-02 1.890e-01 7.796e-02]\n",
      " [2.073e+01 3.112e+01 1.357e+02 ... 1.659e-01 2.868e-01 8.218e-02]]\n",
      "[1 0 0 1 1 0 0 0 1 1 1 0 1 0 1 0 1 1 1 0 0 1 0 1 1 1 1 1 1 0 1 1 1 1 1 1 0\n",
      " 1 0 1 1 0 1 1 1 1 1 1 1 1 0 0 1 1 1 1 1 0 0 1 1 0 0 1 1 1 0 0 1 1 0 0 1 0\n",
      " 1 1 1 0 1 1 0 1 0 0 0 0 0 0 1 1 1 1 1 1 1 1 0 0 1 0 0 1 0 0 1 1 1 0 1 1 0\n",
      " 1 1 0]\n"
     ]
    }
   ],
   "source": [
    "from sklearn.model_selection import train_test_split\n",
    "\n",
    "# Split the data into training and testing sets\n",
    "X_train, X_test, y_train, y_test = train_test_split(X, y, test_size = 0.2, random_state = 42)\n",
    "\n",
    "# Create K = 100 training sets using cross-validation or bagging technique\n",
    "training_sets = []\n",
    "for _ in range(100):\n",
    "    X_train_k, _, y_train_k, _ = train_test_split(X_train, y_train, test_size = 0.2, random_state = 42)\n",
    "    training_sets.append((X_train_k, y_train_k))\n",
    "\n",
    "# Build 1 testing set\n",
    "testing_set = (X_test, y_test)\n",
    "\n",
    "#Print x_test and y_test\n",
    "print(X_test)\n",
    "print(y_test)"
   ]
  },
  {
   "cell_type": "code",
   "execution_count": null,
   "metadata": {},
   "outputs": [],
   "source": [
    "from sklearn.tree import DecisionTreeClassifier\n",
    "\n",
    "# Create a list to store the decision trees\n",
    "decision_trees = []\n",
    "\n",
    "# Build a Decision Tree for each training set\n",
    "for X_train_k, y_train_k in training_sets:\n",
    "    dt = DecisionTreeClassifier()\n",
    "    dt.fit(X_train_k, y_train_k)\n",
    "    decision_trees.append(dt)\n",
    "\n",
    "#Show a decision tree of 1 training set\n",
    "from sklearn import tree\n",
    "\n",
    "tree.plot_tree(decision_trees[0])\n",
    "\n",
    "\n"
   ]
  },
  {
   "cell_type": "code",
   "execution_count": 6,
   "metadata": {},
   "outputs": [
    {
     "data": {
      "text/plain": [
       "(0.07017543859649122, 0.06140350877192979)"
      ]
     },
     "execution_count": 6,
     "metadata": {},
     "output_type": "execute_result"
    }
   ],
   "source": [
    "from sklearn.metrics import accuracy_score\n",
    "import numpy as np\n",
    "# Classify data from the testing set using one decision tree\n",
    "dt_single = decision_trees[0]\n",
    "y_pred_single = dt_single.predict(testing_set[0])\n",
    "error_single = 1 - accuracy_score(testing_set[1], y_pred_single)\n",
    "\n",
    "# Classify data from the testing set using all decision trees\n",
    "y_pred_all = []\n",
    "for dt in decision_trees:\n",
    "    y_pred = dt.predict(testing_set[0])\n",
    "    y_pred_all.append(y_pred)\n",
    "y_pred_all = np.array(y_pred_all)\n",
    "y_pred_majority = np.apply_along_axis(lambda x: np.bincount(x).argmax(), axis = 0, arr = y_pred_all)\n",
    "error_all = 1 - accuracy_score(testing_set[1], y_pred_majority)\n",
    "\n",
    "#Show the error rate of the single decision tree and all decision trees\n",
    "error_single, error_all\n"
   ]
  }
 ],
 "metadata": {
  "kernelspec": {
   "display_name": "Python 3",
   "language": "python",
   "name": "python3"
  },
  "language_info": {
   "codemirror_mode": {
    "name": "ipython",
    "version": 3
   },
   "file_extension": ".py",
   "mimetype": "text/x-python",
   "name": "python",
   "nbconvert_exporter": "python",
   "pygments_lexer": "ipython3",
   "version": "3.11.7"
  }
 },
 "nbformat": 4,
 "nbformat_minor": 2
}
