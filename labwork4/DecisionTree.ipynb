{
 "cells": [
  {
   "cell_type": "code",
   "execution_count": null,
   "metadata": {},
   "outputs": [],
   "source": [
    "from sklearn.datasets import load_iris\n",
    "import pandas as pd\n",
    "from sklearn.model_selection import train_test_split\n",
    "from sklearn.tree import DecisionTreeClassifier\n",
    "from sklearn.tree import plot_tree\n",
    "import matplotlib.pyplot as plt\n",
    "# Load the Iris dataset\n",
    "iris = load_iris()\n",
    "X = iris.data\n",
    "y = iris.target\n",
    "\n",
    "# Delete the existing iris.png file if it exists\n",
    "import os\n",
    "if os.path.exists('iris_dt.png'):\n",
    "    os.remove('iris_dt.png')\n",
    "# Divide the dataset into training and testing subsets\n",
    "X_train, X_test, y_train, y_test = train_test_split(X, y, test_size = 0.2, random_state = 42)\n",
    "\n",
    "# Build a Decision Tree classifier\n",
    "clf = DecisionTreeClassifier()\n",
    "clf.fit(X_train, y_train)\n",
    "\n",
    "# Test the built model on the testing subset\n",
    "y_pred = clf.predict(X_test)\n",
    "# Plot the Decision Tree\n",
    "plt.figure(figsize=(10, 8))\n",
    "plot_tree(clf, feature_names=iris.feature_names, class_names=iris.target_names, filled=True)\n",
    "#Save the plot as a png file\n",
    "plt.savefig('iris_dt.png')\n",
    "plt.show()\n",
    "\n",
    "\n"
   ]
  },
  {
   "cell_type": "code",
   "execution_count": null,
   "metadata": {},
   "outputs": [],
   "source": [
    "from sklearn.metrics import accuracy_score\n",
    "\n",
    "# Delete the existing error.png file if it exists\n",
    "import os\n",
    "if os.path.exists('error.png'):\n",
    "    os.remove('error.png')\n",
    "# Calculate the accuracy of the Decision Tree classifier\n",
    "accuracy = accuracy_score(y_test, y_pred)\n",
    "\n",
    "# Calculate the classification error\n",
    "error = 1 - accuracy\n",
    "\n",
    "error\n",
    "import matplotlib.pyplot as plt\n",
    "\n",
    "# Calculate the error of classification\n",
    "error = 1 - accuracy\n",
    "\n",
    "# Plot the error\n",
    "plt.plot([0, 1], [error, error], 'r--')\n",
    "plt.xlabel('Threshold')\n",
    "plt.ylabel('Error')\n",
    "plt.title('Error of Classification')\n",
    "# Save the plot as a png file\n",
    "plt.savefig('error.png')\n",
    "plt.show()\n"
   ]
  }
 ],
 "metadata": {
  "kernelspec": {
   "display_name": "Python 3",
   "language": "python",
   "name": "python3"
  },
  "language_info": {
   "codemirror_mode": {
    "name": "ipython",
    "version": 3
   },
   "file_extension": ".py",
   "mimetype": "text/x-python",
   "name": "python",
   "nbconvert_exporter": "python",
   "pygments_lexer": "ipython3",
   "version": "3.11.7"
  }
 },
 "nbformat": 4,
 "nbformat_minor": 2
}
