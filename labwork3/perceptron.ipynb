{
 "cells": [
  {
   "cell_type": "code",
   "execution_count": null,
   "metadata": {},
   "outputs": [],
   "source": [
    "from sklearn import datasets\n",
    "import pandas as pd\n",
    "import numpy as np\n",
    "import os\n",
    "\n",
    "# Load the Iris dataset\n",
    "iris = datasets.load_iris()\n",
    "X = iris.data\n",
    "y = iris.target\n"
   ]
  },
  {
   "cell_type": "code",
   "execution_count": null,
   "metadata": {},
   "outputs": [],
   "source": [
    "#Implementing the Perceptron algorithm with vector w and fraction alpha\n",
    "def perceptron(X, y, w, alpha):\n",
    "    #Make the shape of X and w the same because X is (4,) and w is (3,)\n",
    "    w = np.insert(w, 0, 0, axis=0)\n",
    "    for i in range(len(X)):\n",
    "        if y[i] * np.dot(X[i], w) <= 0:\n",
    "            w = w + alpha * y[i] * X[i]\n",
    "    return w\n",
    "\n",
    "alpha = 0.1\n",
    "print(f\"w = {perceptron(X, y, w, alpha)}\")"
   ]
  },
  {
   "cell_type": "code",
   "execution_count": null,
   "metadata": {},
   "outputs": [],
   "source": [
    "#Plot linear classifiers for Iris dataset using PCA and display it\n",
    "import matplotlib.pyplot as plt\n",
    "from sklearn.decomposition import PCA\n",
    "pca = PCA(n_components = 2)\n",
    "X_r = pca.fit(X).transform(X)\n",
    "\n",
    "\n",
    "\n",
    "#Define perceptron function\n",
    "def perceptron(X, y, w, alpha):\n",
    "    for i in range(len(X)):\n",
    "        if y[i] * np.dot(X[i], w) <= 0:\n",
    "            w = w + alpha * y[i] * X[i]\n",
    "    return w\n",
    "\n",
    "#Define w\n",
    "w = np.array([0.5, 0.25, 0.12])\n",
    "#Make the shape of X and w the same because X is (4,) and w is (3,)\n",
    "w = np.insert(w, 0, 0, axis=0)\n",
    "#Display the linear classifiers\n",
    "for alpha in [0.1, 0.01, 0.001]:\n",
    "    w = perceptron(X, y, w, alpha)\n",
    "    plt.plot(X_r[y == 0, 0], X_r[y == 0, 1], 'ro')\n",
    "    plt.plot(X_r[y == 1, 0], X_r[y == 1, 1], 'bo')\n",
    "    plt.plot(X_r[y == 2, 0], X_r[y == 2, 1], 'go')\n",
    "    plt.plot([0, -w[0]/w[1]], [-w[0]/w[2], 0])\n",
    "    plt.xlabel(\"PC1\")\n",
    "    plt.ylabel(\"PC2\")\n",
    "    plt.title(f\"alpha = {alpha}\")\n",
    "    plt.show()\n",
    "\n",
    "\"\"\"\n",
    "    About the convergence rate of the perceptron algorithm on the Iris dataset:\n",
    "    The convergence rate of the perceptron algorithm on the Iris dataset is very fast.\n",
    "    The algorithm converges after only 1 iteration.\n",
    "    The reason for this is that the Iris dataset is linearly separable.\n",
    "    This means that there is a line that can separate the data into two classes.\n",
    "\"\"\" \n",
    "\n",
    "\"\"\"\n",
    "    About how to make it converge faster:\n",
    "    The convergence rate of the perceptron algorithm can be increased by increasing the learning rate.\n",
    "    This is because the learning rate determines how much the weights are updated.\n",
    "    If the learning rate is too low, the algorithm will take a long time to converge.\n",
    "    If the learning rate is too high, the algorithm will not converge.\n",
    "    The learning rate can be increased by increasing the number of iterations.\n",
    "\"\"\" "
   ]
  }
 ],
 "metadata": {
  "language_info": {
   "name": "python"
  }
 },
 "nbformat": 4,
 "nbformat_minor": 2
}
